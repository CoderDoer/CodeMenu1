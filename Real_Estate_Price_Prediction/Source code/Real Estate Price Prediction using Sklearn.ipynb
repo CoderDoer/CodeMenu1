{
 "cells": [
  {
   "cell_type": "markdown",
   "metadata": {},
   "source": [
    "## Price Prediction of Real estate using SLR"
   ]
  },
  {
   "cell_type": "markdown",
   "metadata": {},
   "source": [
    "You are given a real estate dataset. \n",
    "\n",
    "Real estate is one of those examples that every regression course goes through as it is extremely easy to understand and there is a (almost always) certain causal relationship to be found.\n",
    "\n",
    "The data is located in the file: 'real_estate_price_size.csv'. \n",
    "\n",
    "You are expected to create a simple linear regression, using the new data. \n",
    "\n",
    "Apart from that, please:\n",
    "-  Create a scatter plot (with or without a regression line)\n",
    "-  Calculate the R-squared\n",
    "-  Display the intercept and coefficient(s)\n",
    "-  Using the model make a prediction about an apartment with size 750 sq.ft.\n",
    "\n",
    "Note: In this exercise, the dependent variable is 'price', while the independent variable is 'size'.\n",
    "\n",
    "Good luck!"
   ]
  },
  {
   "cell_type": "markdown",
   "metadata": {},
   "source": [
    "## Import the relevant libraries"
   ]
  },
  {
   "cell_type": "code",
   "execution_count": 3,
   "metadata": {},
   "outputs": [],
   "source": [
    "from sklearn.linear_model import LinearRegression\n",
    "import numpy as np\n",
    "import matplotlib.pyplot as plt\n",
    "import pandas as pd\n",
    "import seaborn as sns\n",
    "sns.set()\n"
   ]
  },
  {
   "cell_type": "markdown",
   "metadata": {},
   "source": [
    "## Load the data"
   ]
  },
  {
   "cell_type": "code",
   "execution_count": 4,
   "metadata": {},
   "outputs": [
    {
     "data": {
      "text/html": [
       "<div>\n",
       "<style scoped>\n",
       "    .dataframe tbody tr th:only-of-type {\n",
       "        vertical-align: middle;\n",
       "    }\n",
       "\n",
       "    .dataframe tbody tr th {\n",
       "        vertical-align: top;\n",
       "    }\n",
       "\n",
       "    .dataframe thead th {\n",
       "        text-align: right;\n",
       "    }\n",
       "</style>\n",
       "<table border=\"1\" class=\"dataframe\">\n",
       "  <thead>\n",
       "    <tr style=\"text-align: right;\">\n",
       "      <th></th>\n",
       "      <th>price</th>\n",
       "      <th>size</th>\n",
       "    </tr>\n",
       "  </thead>\n",
       "  <tbody>\n",
       "    <tr>\n",
       "      <th>0</th>\n",
       "      <td>234314.144</td>\n",
       "      <td>643.09</td>\n",
       "    </tr>\n",
       "    <tr>\n",
       "      <th>1</th>\n",
       "      <td>228581.528</td>\n",
       "      <td>656.22</td>\n",
       "    </tr>\n",
       "    <tr>\n",
       "      <th>2</th>\n",
       "      <td>281626.336</td>\n",
       "      <td>487.29</td>\n",
       "    </tr>\n",
       "    <tr>\n",
       "      <th>3</th>\n",
       "      <td>401255.608</td>\n",
       "      <td>1504.75</td>\n",
       "    </tr>\n",
       "    <tr>\n",
       "      <th>4</th>\n",
       "      <td>458674.256</td>\n",
       "      <td>1275.46</td>\n",
       "    </tr>\n",
       "    <tr>\n",
       "      <th>5</th>\n",
       "      <td>245050.280</td>\n",
       "      <td>575.19</td>\n",
       "    </tr>\n",
       "    <tr>\n",
       "      <th>6</th>\n",
       "      <td>265129.064</td>\n",
       "      <td>570.89</td>\n",
       "    </tr>\n",
       "    <tr>\n",
       "      <th>7</th>\n",
       "      <td>175716.480</td>\n",
       "      <td>620.82</td>\n",
       "    </tr>\n",
       "    <tr>\n",
       "      <th>8</th>\n",
       "      <td>331101.344</td>\n",
       "      <td>682.26</td>\n",
       "    </tr>\n",
       "    <tr>\n",
       "      <th>9</th>\n",
       "      <td>218630.608</td>\n",
       "      <td>694.52</td>\n",
       "    </tr>\n",
       "  </tbody>\n",
       "</table>\n",
       "</div>"
      ],
      "text/plain": [
       "        price     size\n",
       "0  234314.144   643.09\n",
       "1  228581.528   656.22\n",
       "2  281626.336   487.29\n",
       "3  401255.608  1504.75\n",
       "4  458674.256  1275.46\n",
       "5  245050.280   575.19\n",
       "6  265129.064   570.89\n",
       "7  175716.480   620.82\n",
       "8  331101.344   682.26\n",
       "9  218630.608   694.52"
      ]
     },
     "execution_count": 4,
     "metadata": {},
     "output_type": "execute_result"
    }
   ],
   "source": [
    "data = pd.read_csv('C:/Users//MultisoftFolderTemp//real_estate_price_size.csv')\n",
    "data.head(10)"
   ]
  },
  {
   "cell_type": "markdown",
   "metadata": {},
   "source": [
    "# Exploring the data and getting the rough idea"
   ]
  },
  {
   "cell_type": "code",
   "execution_count": 13,
   "metadata": {},
   "outputs": [
    {
     "data": {
      "image/png": "[encoded data removed]",
      "text/plain": [
       "<Figure size 432x288 with 1 Axes>"
      ]
     },
     "metadata": {},
     "output_type": "display_data"
    }
   ],
   "source": [
    "size = data['size']\n",
    "price = data['price']\n",
    "plt.figure()\n",
    "plt.xlabel('Size on X axis-->')\n",
    "plt.ylabel('Price on Y axis |')\n",
    "plt.title(\"The price of Flats based on its Size\")\n",
    "plt.grid(True)\n",
    "plt.plot(size,price,'b^')\n",
    "plt.show()\n"
   ]
  },
  {
   "cell_type": "code",
   "execution_count": 14,
   "metadata": {},
   "outputs": [],
   "source": [
    "# From this data, we can see that there is a regression between size and the price. As size increases, price also get increases.\n",
    "# Here we can apply the Linear regression to predict the cases."
   ]
  },
  {
   "cell_type": "markdown",
   "metadata": {},
   "source": [
    "## Create the regression"
   ]
  },
  {
   "cell_type": "markdown",
   "metadata": {},
   "source": [
    "### Declare the dependent and the independent variables"
   ]
  },
  {
   "cell_type": "code",
   "execution_count": 30,
   "metadata": {},
   "outputs": [
    {
     "name": "stdout",
     "output_type": "stream",
     "text": [
      "(100,)\n",
      "(100,)\n"
     ]
    }
   ],
   "source": [
    "size_independent = data['size']\n",
    "price_dependent = data['price']\n",
    "\n",
    "print(size_independent.shape)\n",
    "print(price_dependent.shape)"
   ]
  },
  {
   "cell_type": "markdown",
   "metadata": {},
   "source": [
    "### Training the Data: Here we are taking the 75% of the data for training the model and rest 25% will use to test the data"
   ]
  },
  {
   "cell_type": "code",
   "execution_count": 28,
   "metadata": {},
   "outputs": [
    {
     "name": "stdout",
     "output_type": "stream",
     "text": [
      "0     643.09\n",
      "1     656.22\n",
      "2     487.29\n",
      "3    1504.75\n",
      "4    1275.46\n",
      "Name: size, dtype: float64\n",
      "\n",
      "\n",
      "0    234314.144\n",
      "1    228581.528\n",
      "2    281626.336\n",
      "3    401255.608\n",
      "4    458674.256\n",
      "Name: price, dtype: float64\n"
     ]
    }
   ],
   "source": [
    "size_train = size_independent.head(75)\n",
    "price_train = price_dependent.head(75)\n",
    "\n",
    "print(size_train.head(5))\n",
    "print(\"\\n\")\n",
    "print(price_train.head(5))"
   ]
  },
  {
   "cell_type": "markdown",
   "metadata": {},
   "source": [
    "### Creating the Model and fitting the data\n"
   ]
  },
  {
   "cell_type": "code",
   "execution_count": 35,
   "metadata": {},
   "outputs": [],
   "source": [
    "model=LinearRegression()\n",
    "# model.fit(size_train, price_train)\n",
    "\n",
    "# Here we are getting the error \"Expected 2D array, got 1D array instead:\" after the fit line because the data is in Series which is 1D.\n",
    "# We need the data in the 2D format, so will use the NDARRAY\n",
    "\n"
   ]
  },
  {
   "cell_type": "markdown",
   "metadata": {},
   "source": [
    "### Transform the inputs into a matrix (2D object)"
   ]
  },
  {
   "cell_type": "code",
   "execution_count": 43,
   "metadata": {},
   "outputs": [
    {
     "name": "stdout",
     "output_type": "stream",
     "text": [
      "(75, 1)\n"
     ]
    },
    {
     "data": {
      "text/plain": [
       "LinearRegression(copy_X=True, fit_intercept=True, n_jobs=1, normalize=False)"
      ]
     },
     "execution_count": 43,
     "metadata": {},
     "output_type": "execute_result"
    }
   ],
   "source": [
    "size_train_matrix = size_train.values.reshape(-1,1)\n",
    "print(size_train_matrix.shape)\n",
    "\n",
    "# After reshaping the model, we will fit our training the data into the model\n",
    "\n",
    "model.fit(size_train_matrix,price_train)"
   ]
  },
  {
   "cell_type": "code",
   "execution_count": 47,
   "metadata": {},
   "outputs": [
    {
     "name": "stdout",
     "output_type": "stream",
     "text": [
      "[144600.86052423 155985.56047289 190139.66031889]\n",
      "\n",
      "\n",
      "A 500 sq meter flat will cost me around: [212909.06021623]\n"
     ]
    }
   ],
   "source": [
    "print(model.predict(np.array([200,250,400]).reshape(3,-1)))\n",
    "print(\"\\n\")\n",
    "print(\"A 500 sq meter flat will cost me around:\",model.predict(np.array([500]).reshape(1,-1)))"
   ]
  },
  {
   "cell_type": "markdown",
   "metadata": {},
   "source": [
    "### Linear Regression Equation is: Y = Mx + C\n",
    "### Where Y is the target value, M is the slope or Coefficient, C is the intercept or constant"
   ]
  },
  {
   "cell_type": "markdown",
   "metadata": {},
   "source": [
    "### Getting the Coefficient or Slope of the train model"
   ]
  },
  {
   "cell_type": "code",
   "execution_count": 52,
   "metadata": {},
   "outputs": [
    {
     "name": "stdout",
     "output_type": "stream",
     "text": [
      "The slope of the Trained Model is= [227.69399897]\n"
     ]
    }
   ],
   "source": [
    "print(\"The slope of the Trained Model is=\",model.coef_)"
   ]
  },
  {
   "cell_type": "markdown",
   "metadata": {},
   "source": [
    "### Getting the intersept or constant of the train model"
   ]
  },
  {
   "cell_type": "code",
   "execution_count": 51,
   "metadata": {},
   "outputs": [
    {
     "name": "stdout",
     "output_type": "stream",
     "text": [
      "The intercept of the Trained Model is= 99062.06072955934\n"
     ]
    }
   ],
   "source": [
    "print(\"The intercept of the Trained Model is=\",model.intercept_)"
   ]
  },
  {
   "cell_type": "markdown",
   "metadata": {},
   "source": [
    "### Test Cases: Here we will create the test cases and will match the target/Output from 25% of the rest data"
   ]
  },
  {
   "cell_type": "code",
   "execution_count": 53,
   "metadata": {},
   "outputs": [
    {
     "name": "stdout",
     "output_type": "stream",
     "text": [
      "Test Instance 1:\n",
      " Observed Price : An 1183.46\" flat costs $382120.152\n",
      "Predicted Price => An 1183.46\" pizza should cost: $368528.80\n",
      "\n",
      "\n",
      "Test Instance 2:\n",
      " Observed Price A 685.48\" flat costs : $286161.6\n",
      "Predicted Price => A 685.48\" flat should cost: $255141.74\n",
      "\n",
      "\n",
      "Test Instance 3:\n",
      " Observed Price An 682.26\" flat costs : $251560.04\n",
      "Predicted Price => An 1682.26\" flat should cost: $254408.57\n",
      "\n",
      "\n",
      "Test Instance 4:\n",
      " Observed Price : A 1334.1\" pizza costs $365863.936\n",
      "Predicted Price => A 1334.1\" flat should cost: $402828.62\n",
      "\n",
      "\n"
     ]
    }
   ],
   "source": [
    "#1  \n",
    "print(\"Test Instance 1:\\n\", \"Observed Price : An 1183.46\\\" flat costs $382120.152\") \n",
    "print(\"Predicted Price\",end=\" => \") \n",
    "print ('An 1183.46\" pizza should cost: $%.2f' % model.predict([1183.46][0]))\n",
    "print(\"\\n\")\n",
    "\n",
    "#2  Observed Price : \n",
    "print(\"Test Instance 2:\\n\", \"Observed Price A 685.48\\\" flat costs : $286161.6\") \n",
    "print(\"Predicted Price\",end=\" => \") \n",
    "print ('A 685.48\" flat should cost: $%.2f' % model.predict([685.48][0]))\n",
    "print(\"\\n\")\n",
    "\n",
    "#3  Observed Price : \n",
    "print(\"Test Instance 3:\\n\", \"Observed Price An 682.26\\\" flat costs : $251560.04\") \n",
    "print(\"Predicted Price\",end=\" => \") \n",
    "print ('An 1682.26\" flat should cost: $%.2f' % model.predict([682.26][0]))\n",
    "print(\"\\n\")\n",
    "\n",
    "#4  Observed Price : \n",
    "print(\"Test Instance 4:\\n\", \"Observed Price : A 1334.1\\\" pizza costs $365863.936\") \n",
    "print(\"Predicted Price\",end=\" => \") \n",
    "print ('A 1334.1\" flat should cost: $%.2f' % model.predict([1334.1][0]))\n",
    "print(\"\\n\")"
   ]
  },
  {
   "cell_type": "code",
   "execution_count": 61,
   "metadata": {},
   "outputs": [
    {
     "name": "stdout",
     "output_type": "stream",
     "text": [
      "The R sq of the trained model is= 0.7534372266415224\n"
     ]
    }
   ],
   "source": [
    "print(\"The R sq of the trained model is=\",model.score(size_train_matrix,price_train))"
   ]
  },
  {
   "cell_type": "markdown",
   "metadata": {},
   "source": [
    "### Regression itself: Here we are creating the test model"
   ]
  },
  {
   "cell_type": "code",
   "execution_count": 58,
   "metadata": {},
   "outputs": [
    {
     "data": {
      "text/plain": [
       "LinearRegression(copy_X=True, fit_intercept=True, n_jobs=1, normalize=False)"
      ]
     },
     "execution_count": 58,
     "metadata": {},
     "output_type": "execute_result"
    }
   ],
   "source": [
    "size_test = size_independent.tail(25)\n",
    "price_test = price_dependent.tail(25)\n",
    "\n",
    "size_test_matrix = size_test.values.reshape(-1,1)\n",
    "model2=LinearRegression()\n",
    "model2.fit(size_test_matrix,price_test)"
   ]
  },
  {
   "cell_type": "markdown",
   "metadata": {},
   "source": [
    "### Calculate the R-squared"
   ]
  },
  {
   "cell_type": "code",
   "execution_count": 59,
   "metadata": {},
   "outputs": [
    {
     "name": "stdout",
     "output_type": "stream",
     "text": [
      "R-squared: 0.7161\n"
     ]
    }
   ],
   "source": [
    "print('R-squared: %.4f' % model2.score(size_test_matrix,price_test))"
   ]
  },
  {
   "cell_type": "markdown",
   "metadata": {},
   "source": [
    "### Find the intercept"
   ]
  },
  {
   "cell_type": "code",
   "execution_count": 64,
   "metadata": {},
   "outputs": [
    {
     "data": {
      "text/plain": [
       "112865.50490210357"
      ]
     },
     "execution_count": 64,
     "metadata": {},
     "output_type": "execute_result"
    }
   ],
   "source": [
    "model2.intercept_"
   ]
  },
  {
   "cell_type": "markdown",
   "metadata": {},
   "source": [
    "### Find the coefficients"
   ]
  },
  {
   "cell_type": "code",
   "execution_count": 63,
   "metadata": {},
   "outputs": [
    {
     "data": {
      "text/plain": [
       "array([207.0312177])"
      ]
     },
     "execution_count": 63,
     "metadata": {},
     "output_type": "execute_result"
    }
   ],
   "source": [
    "model2.coef_"
   ]
  },
  {
   "cell_type": "markdown",
   "metadata": {},
   "source": [
    "### Making predictions\n",
    "\n",
    "You find an apartment online with a size of 750 sq.ft.\n",
    "\n",
    "All else equal what should be its price according to the model?"
   ]
  },
  {
   "cell_type": "code",
   "execution_count": 65,
   "metadata": {},
   "outputs": [
    {
     "data": {
      "image/png": "[encoded data removed]",
      "text/plain": [
       "<Figure size 432x288 with 1 Axes>"
      ]
     },
     "metadata": {},
     "output_type": "display_data"
    }
   ],
   "source": [
    "y_pred = model2.predict(size_test_matrix)\n",
    "# Plot outputs\n",
    "plt.scatter(size_test_matrix, price_test,  color='red')\n",
    "plt.plot(size_test_matrix, y_pred, color='blue', linewidth=3)\n",
    "plt.show()"
   ]
  },
  {
   "cell_type": "code",
   "execution_count": null,
   "metadata": {},
   "outputs": [],
   "source": []
  }
 ],
 "metadata": {
  "kernelspec": {
   "display_name": "Python 3",
   "language": "python",
   "name": "python3"
  },
  "language_info": {
   "codemirror_mode": {
    "name": "ipython",
    "version": 3
   },
   "file_extension": ".py",
   "mimetype": "text/x-python",
   "name": "python",
   "nbconvert_exporter": "python",
   "pygments_lexer": "ipython3",
   "version": "3.6.4"
  }
 },
 "nbformat": 4,
 "nbformat_minor": 2
}
