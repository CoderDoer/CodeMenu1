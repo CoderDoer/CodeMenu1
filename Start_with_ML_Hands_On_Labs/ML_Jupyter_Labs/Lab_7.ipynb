{
 "cells": [
  {
   "cell_type": "markdown",
   "metadata": {},
   "source": [
    "### K-Means Clustering Algorithm\n",
    "    Clustering is an _unsupervised machine learning task.\n",
    "    In the kmeans algorithm, k is the number of clusters.\n",
    "    First, we find out unlabelled set of data and then\n",
    "    We plot all of the observed data in a scatter plot."
   ]
  },
  {
   "cell_type": "code",
   "execution_count": 2,
   "metadata": {},
   "outputs": [
    {
     "data": {
      "text/plain": [
       "<Figure size 640x480 with 1 Axes>"
      ]
     },
     "metadata": {},
     "output_type": "display_data"
    }
   ],
   "source": [
    "# clustering dataset\n",
    "from sklearn.cluster import KMeans\n",
    "# Default : n_clusters - 8 number of clusters to form and no. of centroids to generate\n",
    "# The average complexity is given by O(k n T), were n is the number of samples and T is the number of iteration.\n",
    "from sklearn import metrics\n",
    "import numpy as np\n",
    "import matplotlib.pyplot as plt\n",
    "\n",
    "x1 = np.array([3, 1, 1, 2, 1, 6, 6, 6, 5, 6, 7, 8, 9, 8, 9, 9, 8])\n",
    "x2 = np.array([5, 4, 6, 6, 5, 8, 6, 7, 6, 9, 1, 4, 1, 2, 3, 2, 3])\n",
    "\n",
    "\n",
    "plt.plot()\n",
    "plt.xlim([0, 10])\n",
    "plt.ylim([0, 10])\n",
    "plt.title('Clustering Dataset')\n",
    "plt.scatter(x1, x2)\n",
    "plt.show()\n",
    " "
   ]
  },
  {
   "cell_type": "code",
   "execution_count": 3,
   "metadata": {},
   "outputs": [],
   "source": [
    "KMeans?"
   ]
  },
  {
   "cell_type": "code",
   "execution_count": 2,
   "metadata": {},
   "outputs": [],
   "source": [
    "# How many Clusters?\n",
    "# K can be determined using the elbow method (next example)\n",
    "# But in this example we’ll set K ourselves.\n",
    "# k always > 1\n",
    "# Goal of K-means: Partition observations into k clusters.\n",
    "# Each observation belong to the cluster with the nearest mean"
   ]
  },
  {
   "cell_type": "code",
   "execution_count": 5,
   "metadata": {},
   "outputs": [
    {
     "name": "stdout",
     "output_type": "stream",
     "text": [
      "[[3 5]\n",
      " [1 4]\n",
      " [1 6]\n",
      " [2 6]\n",
      " [1 5]\n",
      " [6 8]\n",
      " [6 6]\n",
      " [6 7]\n",
      " [5 6]\n",
      " [6 9]\n",
      " [7 1]\n",
      " [8 4]\n",
      " [9 1]\n",
      " [8 2]\n",
      " [9 3]\n",
      " [9 2]\n",
      " [8 3]]\n",
      "[1 1 1 1 1 1 1 1 1 1 0 0 0 0 0 0 0]\n"
     ]
    },
    {
     "data": {
      "image/png": "[encoded data removed]",
      "text/plain": [
       "<Figure size 432x288 with 1 Axes>"
      ]
     },
     "metadata": {},
     "output_type": "display_data"
    }
   ],
   "source": [
    "# create new plot and data\n",
    "plt.plot()\n",
    "X = np.array(list(zip(x1, x2))).reshape(len(x1), 2)\n",
    "print(X)\n",
    "colors = ['b', 'g', 'r','k']\n",
    "markers = ['o', 'p', 's','+'] \n",
    "#'v' for downward triangle\n",
    "# KMeans algorithm \n",
    "K = 2\n",
    "# computing k-means clustering using Kmeans.fit\n",
    "kmeans_model = KMeans(n_clusters=K, random_state=0).fit(X)\n",
    "# if random_state is int, random_state is the seed used by the random number generator\n",
    "# by default it is None, in that case seed comes from np.random\n",
    "#plt.plot()\n",
    "print(kmeans_model.labels_)\n",
    "for i, l in enumerate(kmeans_model.labels_):\n",
    "    plt.plot(x1[i], x2[i], color=colors[l], marker=markers[l],ls='None')\n",
    "    #line style : None (optional)\n",
    "    plt.xlim([0, 10])\n",
    "    plt.ylim([0, 10])\n",
    "\n",
    "plt.show()\n",
    " "
   ]
  },
  {
   "cell_type": "markdown",
   "metadata": {},
   "source": [
    "# K-means has clustered the datasets"
   ]
  },
  {
   "cell_type": "code",
   "execution_count": null,
   "metadata": {},
   "outputs": [],
   "source": []
  }
 ],
 "metadata": {
  "kernelspec": {
   "display_name": "Python 3",
   "language": "python",
   "name": "python3"
  },
  "language_info": {
   "codemirror_mode": {
    "name": "ipython",
    "version": 3
   },
   "file_extension": ".py",
   "mimetype": "text/x-python",
   "name": "python",
   "nbconvert_exporter": "python",
   "pygments_lexer": "ipython3",
   "version": "3.6.4"
  }
 },
 "nbformat": 4,
 "nbformat_minor": 2
}
