{
 "cells": [
  {
   "cell_type": "markdown",
   "metadata": {},
   "source": [
    "# Multiple Linear Regression"
   ]
  },
  {
   "cell_type": "markdown",
   "metadata": {},
   "source": [
    "How can we improve on our previous r-square for pizza price predictor. We can consider other attributes of a pizza that are related to its price and affect its pricing. Price often depends on the number of toppings on the pizza.  \n",
    "\n",
    "Toppings can be added to our training set as second explanatory variable. In this case, We cannot proceed with simple linear regression, but multiple linear regression can work here.  Multiple linear regression uses a coefficient for each of the arbitrary number of explanatory variables along with the intercept term."
   ]
  },
  {
   "cell_type": "code",
   "execution_count": 1,
   "metadata": {},
   "outputs": [
    {
     "name": "stdout",
     "output_type": "stream",
     "text": [
      "[[10.0625    ]\n",
      " [10.28125   ]\n",
      " [13.09375   ]\n",
      " [18.14583333]]\n",
      "Predicted: [10.0625], Actual: [11]\n",
      "Predicted: [10.28125], Actual: [8.5]\n",
      "Predicted: [13.09375], Actual: [15]\n",
      "Predicted: [18.14583333], Actual: [18]\n",
      "R-squared: 0.8551\n"
     ]
    }
   ],
   "source": [
    "from sklearn.linear_model import LinearRegression\n",
    "# X1 = Diameter ; X2 = Number of Toppings.; Y = Price\n",
    "X = [[6, 2], [8, 1], [10, 0], [14, 2], [18, 0]]\n",
    "y = [[7], [9], [13], [17.5], [18]]\n",
    "Mymodel = LinearRegression()\n",
    "Mymodel.fit(X, y)\n",
    "X_test = [[8, 2], [9, 0], [11, 2], [16, 2]]\n",
    "y_test = [[11], [8.5], [15], [18]]  # actual\n",
    "predictions = Mymodel.predict(X_test)  #predicted\n",
    "print(predictions)\n",
    "for i, prediction in enumerate(predictions):\n",
    "    print ('Predicted: %s, Actual: %s' % (prediction, y_test[i]))\n",
    "print ('R-squared: %.4f' % Mymodel.score(X_test, y_test))"
   ]
  },
  {
   "cell_type": "code",
   "execution_count": 4,
   "metadata": {},
   "outputs": [
    {
     "data": {
      "text/plain": [
       "array([[1.01041667, 0.39583333]])"
      ]
     },
     "execution_count": 4,
     "metadata": {},
     "output_type": "execute_result"
    }
   ],
   "source": [
    "A.Size+B.No_of_Toppings+C=0\n",
    "\n",
    "Mymodel.coef_"
   ]
  },
  {
   "cell_type": "code",
   "execution_count": 5,
   "metadata": {},
   "outputs": [
    {
     "data": {
      "text/plain": [
       "array([1.1875])"
      ]
     },
     "execution_count": 5,
     "metadata": {},
     "output_type": "execute_result"
    }
   ],
   "source": [
    "Mymodel.intercept_"
   ]
  },
  {
   "cell_type": "code",
   "execution_count": null,
   "metadata": {},
   "outputs": [],
   "source": []
  }
 ],
 "metadata": {
  "kernelspec": {
   "display_name": "Python 3",
   "language": "python",
   "name": "python3"
  },
  "language_info": {
   "codemirror_mode": {
    "name": "ipython",
    "version": 3
   },
   "file_extension": ".py",
   "mimetype": "text/x-python",
   "name": "python",
   "nbconvert_exporter": "python",
   "pygments_lexer": "ipython3",
   "version": "3.6.4"
  }
 },
 "nbformat": 4,
 "nbformat_minor": 2
}
