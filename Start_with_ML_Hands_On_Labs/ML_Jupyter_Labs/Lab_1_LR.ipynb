{
 "cells": [
  {
   "cell_type": "markdown",
   "metadata": {},
   "source": [
    "# Linear Regression"
   ]
  },
  {
   "cell_type": "markdown",
   "metadata": {},
   "source": [
    "Suppose you wish to know the price of a pizza. You might simply look at a menu. Using Machine Learning\n",
    "you can instead predict the price of a pizza based on an attribute of the pizza that we can\n",
    "observe."
   ]
  },
  {
   "cell_type": "markdown",
   "metadata": {},
   "source": [
    "1. Price Predictor :  This pizza-price predictor program models this relationship using linear regression."
   ]
  },
  {
   "cell_type": "markdown",
   "metadata": {},
   "source": [
    "    #Predict the price of a pizza given its size. Let's model the relationship between the size of a pizza and its price. We will write the program using Scikit. scikit-learn that can predict the price of a pizza given its size.\n",
    "     "
   ]
  },
  {
   "cell_type": "markdown",
   "metadata": {},
   "source": [
    "Let's assume that you have\n",
    "recorded the diameters and prices of pizzas that you have previously eaten in your\n",
    "pizza journal. These observations comprise our training data:\n",
    "##### Instance  | |    Diameter(inches)        | |        Price ($$)\n",
    "         1            6                7\n",
    "         2            8                9\n",
    "         3            10               13\n",
    "         4            14               17.5\n",
    "         5            18               18"
   ]
  },
  {
   "cell_type": "code",
   "execution_count": 4,
   "metadata": {
    "scrolled": true
   },
   "outputs": [
    {
     "data": {
      "image/png": "[encoded data removed]",
      "text/plain": [
       "<Figure size 432x288 with 1 Axes>"
      ]
     },
     "metadata": {},
     "output_type": "display_data"
    }
   ],
   "source": [
    "import matplotlib.pyplot as plt\n",
    "# Provides MatLab-like interface to matplotlib\n",
    "# Training Instance  : x - Diameter in inches || y -Price (in $$)\n",
    "# The diameters of the pizzas are plotted on the x axis and the prices are plotted on the y axis.\n",
    "x = [6, 8, 10, 14, 18]\n",
    "y = [7, 9, 13, 17.5, 18]\n",
    "\n",
    "plt.figure(1)        # Creating a figure object\n",
    "plt.title('Pizza price plotted against diameter')\n",
    "plt.xlabel('Diameter in inches')\n",
    "plt.ylabel('Price in dollars')\n",
    "# To plot lines in the plotting area of figure use plot()\n",
    "plt.plot(x, y, 'b^')    \n",
    "#k. = dotted black lines, b^ = triangle blue lines\n",
    "# 'r' = red 'g' = green 'b' = blue 'c' = cyan 'm' = magenta 'y' = yellow 'k' = black 'w' = white.\n",
    "plt.axis([0, 20, 0, 20])\n",
    "# Setting axis range x-axis 0-20, y-axis 0-20\n",
    "plt.grid(True)\n",
    "# arranges plot into grids\n",
    "plt.show() \n",
    "#Show function is used to show the plotted graph\n"
   ]
  },
  {
   "cell_type": "markdown",
   "metadata": {},
   "source": [
    "    # We can see from the graph of the training data that there is a positive relationship between the diameter of a pizza and its price As the diameter of a pizza increases, its price generally increases too. Our following pizza-price predictor program tries to model this relationship using linear regression."
   ]
  },
  {
   "cell_type": "code",
   "execution_count": 8,
   "metadata": {},
   "outputs": [
    {
     "name": "stdout",
     "output_type": "stream",
     "text": [
      "[[ 7.82327586]\n",
      " [ 9.77586207]\n",
      " [11.72844828]\n",
      " [15.63362069]\n",
      " [19.5387931 ]]\n",
      "A 12\" pizza should cost: $13.68\n"
     ]
    }
   ],
   "source": [
    "from sklearn.linear_model import LinearRegression\n",
    "import numpy as np\n",
    "# Training data\n",
    "X = [[6], [8], [10], [14], [18]]\n",
    "Y = [[7], [9], [13], [17.5], [18]]\n",
    " # Create and fit the model\n",
    "model = LinearRegression()\n",
    "model.fit(X, Y)\n",
    "#print(X)\n",
    "print(model.predict(np.array([6,8,10,14,18]).reshape(5,-1)))\n",
    "print ('A 12\" pizza should cost: $%.2f' % model.predict(np.array([12]).reshape(1,-1)))\n"
   ]
  },
  {
   "cell_type": "code",
   "execution_count": 5,
   "metadata": {},
   "outputs": [],
   "source": [
    "### Y = Mx + C"
   ]
  },
  {
   "cell_type": "code",
   "execution_count": 6,
   "metadata": {},
   "outputs": [
    {
     "data": {
      "text/plain": [
       "array([[0.9762931]])"
      ]
     },
     "execution_count": 6,
     "metadata": {},
     "output_type": "execute_result"
    }
   ],
   "source": [
    "model.coef_"
   ]
  },
  {
   "cell_type": "code",
   "execution_count": 7,
   "metadata": {},
   "outputs": [],
   "source": [
    "#y=(0.9762931)x+(1.96551724)"
   ]
  },
  {
   "cell_type": "code",
   "execution_count": 8,
   "metadata": {},
   "outputs": [
    {
     "data": {
      "text/plain": [
       "array([1.96551724])"
      ]
     },
     "execution_count": 8,
     "metadata": {},
     "output_type": "execute_result"
    }
   ],
   "source": [
    "model.intercept_"
   ]
  },
  {
   "cell_type": "code",
   "execution_count": 10,
   "metadata": {},
   "outputs": [
    {
     "name": "stdout",
     "output_type": "stream",
     "text": [
      "Test Instance 1:\n",
      " Observed Price : An 8\" pizza costs $11\n",
      "Predicted Price => An 8\" pizza should cost: $12.70\n",
      "Test Instance 2:\n",
      " Observed Price A 9\" pizza costs : $8.5\n",
      "Predicted Price => A 9\" pizza should cost: $10.26\n",
      "Test Instance 3:\n",
      " Observed Price An 11\" pizza costs : $15\n",
      "Predicted Price => An 11\" pizza should cost: $16.61\n",
      "Test Instance 4:\n",
      " Observed Price : A 16\" pizza costs $18\n",
      "Predicted Price => A 16\" pizza should cost: $19.54\n"
     ]
    }
   ],
   "source": [
    "# Test Instances\n",
    "#1  \n",
    "print(\"Test Instance 1:\\n\", \"Observed Price : An 8\\\" pizza costs $11\") \n",
    "print(\"Predicted Price\",end=\" => \") \n",
    "print ('An 8\" pizza should cost: $%.2f' % model.predict([11][0]))\n",
    "#2  Observed Price : \n",
    "print(\"Test Instance 2:\\n\", \"Observed Price A 9\\\" pizza costs : $8.5\") \n",
    "print(\"Predicted Price\",end=\" => \") \n",
    "print ('A 9\" pizza should cost: $%.2f' % model.predict([8.5][0]))\n",
    "#3  Observed Price : \n",
    "print(\"Test Instance 3:\\n\", \"Observed Price An 11\\\" pizza costs : $15\") \n",
    "print(\"Predicted Price\",end=\" => \") \n",
    "print ('An 11\" pizza should cost: $%.2f' % model.predict([15][0]))\n",
    "#4  Observed Price : \n",
    "print(\"Test Instance 4:\\n\", \"Observed Price : A 16\\\" pizza costs $18\") \n",
    "print(\"Predicted Price\",end=\" => \") \n",
    "print ('A 16\" pizza should cost: $%.2f' % model.predict([18][0]))\n",
    "\n",
    "\n"
   ]
  },
  {
   "cell_type": "markdown",
   "metadata": {},
   "source": [
    "# explanation\n",
    "Simple linear regression assumes that a linear relationship exists between the\n",
    "response variable and explanatory variable; it models this relationship with a linear\n",
    "surface called a hyperplane. A hyperplane is a subspace that has one dimension\n",
    "less than the ambient space that contains it. In simple linear regression, there is one\n",
    "dimension for the response variable and another dimension for the explanatory\n",
    "variable, making a total of two dimensions. The regression hyperplane therefore,\n",
    "has one dimension; a hyperplane with one dimension is a line."
   ]
  },
  {
   "cell_type": "markdown",
   "metadata": {},
   "source": [
    "## Explanatory Text  \n",
    "The sklearn.linear_model.LinearRegression class is an estimator. Estimators predict a value based on the observed data. In scikit-learn, all estimators implement the fit() and predict() methods. The former method is used to learn the parameters of a model, and the latter method is used to predict the value of a response variable\n",
    "for an explanatory variable using the learned parameters. It The fit method of LinearRegression learns the parameters of the following model\n",
    "for simple linear regression:\n",
    "y =a+bx\n",
    "y is the predicted value of the response variable; in this example, it is the predicted\n",
    "price of the pizza. x is the explanatory variable. The intercept term  and coefficient are parameters of the model that are learned by the learning algorithm. The line\n",
    "plotted in the following figure models the relationship between the size of a pizza and its price. "
   ]
  },
  {
   "cell_type": "code",
   "execution_count": 15,
   "metadata": {},
   "outputs": [
    {
     "name": "stdout",
     "output_type": "stream",
     "text": [
      "Traning Sccuracy R-squared: 0.9100\n",
      "Traning Sccuracy R-squared: 0.7742\n"
     ]
    }
   ],
   "source": [
    "from sklearn.linear_model import LinearRegression\n",
    "X = [[6], [8], [10], [14], [18]]\n",
    "Y = [[7], [9], [13], [17.5], [18]]\n",
    "X_test = [[8], [9], [11], [16]]\n",
    "y_test = [[11],[8.5],[15],[18]]\n",
    "model = LinearRegression()\n",
    "model.fit(X,Y)\n",
    "\n",
    "print('Traning Accuracy R-squared: %.4f' % model.score(X,Y))\n",
    "print('Test Accuracy R-squared: %.4f' % model.score(X_test,y_test))\n",
    "#1 - u/v\n",
    "#u = sum(y-y^)2\n",
    "#v = sum(y-ymean)2\n",
    "\n",
    "#TRAINING ERROR   \n",
    "#TEST ERROR\n",
    "#OVER FITTING \n",
    "#UNDER FITTING \n",
    "#REGULAR FITTING"
   ]
  },
  {
   "cell_type": "code",
   "execution_count": 7,
   "metadata": {},
   "outputs": [],
   "source": [
    "model.score?"
   ]
  },
  {
   "cell_type": "markdown",
   "metadata": {},
   "source": [
    "An r-squared score of 0.7742 indicates that a large proportion of the variance in the\n",
    "test instances' prices is explained by the model."
   ]
  },
  {
   "cell_type": "code",
   "execution_count": 11,
   "metadata": {},
   "outputs": [
    {
     "name": "stdout",
     "output_type": "stream",
     "text": [
      "[[ 9.77586207]\n",
      " [10.75215517]\n",
      " [12.70474138]\n",
      " [17.5862069 ]]\n"
     ]
    },
    {
     "data": {
      "image/png": "[encoded data removed]",
      "text/plain": [
       "<Figure size 432x288 with 1 Axes>"
      ]
     },
     "metadata": {},
     "output_type": "display_data"
    }
   ],
   "source": [
    "# Make predictions using the testing set\n",
    "y_pred = model.predict(X_test)\n",
    "print(y_pred)\n",
    "# Plot outputs\n",
    "plt.scatter(X_test, y_test,  color='red')\n",
    "plt.plot(X_test, y_pred, color='blue', linewidth=3)\n",
    "plt.show()"
   ]
  },
  {
   "cell_type": "code",
   "execution_count": 7,
   "metadata": {},
   "outputs": [
    {
     "data": {
      "text/plain": [
       "array([[0.9762931]])"
      ]
     },
     "execution_count": 7,
     "metadata": {},
     "output_type": "execute_result"
    }
   ],
   "source": [
    "model.coef_"
   ]
  },
  {
   "cell_type": "code",
   "execution_count": 8,
   "metadata": {},
   "outputs": [
    {
     "data": {
      "text/plain": [
       "array([1.96551724])"
      ]
     },
     "execution_count": 8,
     "metadata": {},
     "output_type": "execute_result"
    }
   ],
   "source": [
    "model.intercept_"
   ]
  },
  {
   "cell_type": "markdown",
   "metadata": {},
   "source": [
    "Note: plt.show() displays the figure (and enters the mainloop of whatever gui backend you're using). You shouldn't call it until you've plotted things and want to see them displayed.\n",
    "\n",
    "plt.imshow() draws an image on the current figure (creating a figure is there isn't a current figure). Calling plt.show() before you've drawn anything doesn't make any sense. If you want to explictly create a new figure, use plt.figure()."
   ]
  },
  {
   "cell_type": "code",
   "execution_count": null,
   "metadata": {},
   "outputs": [],
   "source": []
  }
 ],
 "metadata": {
  "kernelspec": {
   "display_name": "Python 3",
   "language": "python",
   "name": "python3"
  },
  "language_info": {
   "codemirror_mode": {
    "name": "ipython",
    "version": 3
   },
   "file_extension": ".py",
   "mimetype": "text/x-python",
   "name": "python",
   "nbconvert_exporter": "python",
   "pygments_lexer": "ipython3",
   "version": "3.6.4"
  }
 },
 "nbformat": 4,
 "nbformat_minor": 2
}
