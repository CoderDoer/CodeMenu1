{
 "cells": [
  {
   "cell_type": "markdown",
   "metadata": {},
   "source": [
    "### Question:  K - Means Elbow Method : Finding optimal K\n",
    "The KMeans algorithm can cluster observed data. But how many clusters (k) are there? kmeans elbow method. The elbow method finds the optimal value for k (#clusters).\n",
    "\n",
    "    - We will plot values for K on the horizontal axis\n",
    "    - The distortion on the Y axis \n",
    "    - Distortion implies the values calculated with the cost function.\n",
    "    - When K increases, the centroids are closer to the clusters\n",
    "      centroids.\n",
    "    - The improvements will decline, at some point rapidly, \n",
    "      creating the elbow shape.\n",
    "    - That point is the optimal value for K. In the image above, K=3."
   ]
  },
  {
   "cell_type": "code",
   "execution_count": 3,
   "metadata": {},
   "outputs": [
    {
     "data": {
      "image/png": "[encoded data removed]",
      "text/plain": [
       "<Figure size 432x288 with 1 Axes>"
      ]
     },
     "metadata": {},
     "output_type": "display_data"
    }
   ],
   "source": [
    "# clustering dataset\n",
    "# determine k using elbow method\n",
    "\n",
    "from sklearn.cluster import KMeans\n",
    "from sklearn import metrics\n",
    "from scipy.spatial.distance import cdist\n",
    "import numpy as np\n",
    "import matplotlib.pyplot as plt\n",
    "\n",
    "x1 = np.array(np.random.uniform(1,6,14))\n",
    "x2 = np.array(np.random.uniform(5,7,14))\n",
    "# create scatter plot\n",
    "plt.plot()\n",
    "plt.xlim([0, 10])\n",
    "plt.ylim([0, 10])\n",
    "plt.title('Dataset')\n",
    "plt.scatter(x1, x2)  \n",
    "plt.show()\n"
   ]
  },
  {
   "cell_type": "code",
   "execution_count": null,
   "metadata": {},
   "outputs": [],
   "source": []
  }
 ],
 "metadata": {
  "kernelspec": {
   "display_name": "Python 3",
   "language": "python",
   "name": "python3"
  },
  "language_info": {
   "codemirror_mode": {
    "name": "ipython",
    "version": 3
   },
   "file_extension": ".py",
   "mimetype": "text/x-python",
   "name": "python",
   "nbconvert_exporter": "python",
   "pygments_lexer": "ipython3",
   "version": "3.6.4"
  }
 },
 "nbformat": 4,
 "nbformat_minor": 2
}
